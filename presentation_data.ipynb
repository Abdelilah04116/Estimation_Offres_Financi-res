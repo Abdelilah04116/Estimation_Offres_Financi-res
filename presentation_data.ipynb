{
 "cells": [
  {
   "cell_type": "markdown",
   "id": "3a7c6821-d942-4094-8091-22fd3f2566a5",
   "metadata": {},
   "source": [
    "<FONT size=\"10pt\" color='Blue'> <center>Estimation des offres financières pour les appels d’offres basé sur les résultats historiques</center></FONT>"
   ]
  },
  {
   "cell_type": "markdown",
   "id": "5d2925f0-985f-4df3-ba45-152a47015669",
   "metadata": {},
   "source": [
    "- **Dans ce notebook, vous trouverez la présentation des données que je souhaite utiliser pendant le projet**"
   ]
  },
  {
   "cell_type": "markdown",
   "id": "eb1f320d-2310-47ae-9f04-01eeaca67433",
   "metadata": {},
   "source": [
    "#### importation des bibliotheques"
   ]
  },
  {
   "cell_type": "code",
   "execution_count": null,
   "id": "82e7da9a-2be6-4962-9017-b50ca64e5e7a",
   "metadata": {},
   "outputs": [],
   "source": []
  },
  {
   "cell_type": "code",
   "execution_count": null,
   "id": "2bfd3947-39d8-4f4f-a6d5-fee2ecd56f62",
   "metadata": {},
   "outputs": [],
   "source": [
    "import numpy as np \n",
    "import pandas as pd \n",
    "import matplotlib.pyplot as plt \n",
    "import seaborn as sns \n",
    "from IPython.display import display, Markdown\n",
    "import missingno as msno"
   ]
  },
  {
   "cell_type": "code",
   "execution_count": 4,
   "id": "6d833789-540a-4525-80f8-5d0a4ba2f2ba",
   "metadata": {},
   "outputs": [
    {
     "data": {
      "text/html": [
       "<div>\n",
       "<style scoped>\n",
       "    .dataframe tbody tr th:only-of-type {\n",
       "        vertical-align: middle;\n",
       "    }\n",
       "\n",
       "    .dataframe tbody tr th {\n",
       "        vertical-align: top;\n",
       "    }\n",
       "\n",
       "    .dataframe thead th {\n",
       "        text-align: right;\n",
       "    }\n",
       "</style>\n",
       "<table border=\"1\" class=\"dataframe\">\n",
       "  <thead>\n",
       "    <tr style=\"text-align: right;\">\n",
       "      <th></th>\n",
       "      <th>id_appel_offre</th>\n",
       "      <th>titre</th>\n",
       "      <th>description</th>\n",
       "      <th>categorie_marche</th>\n",
       "      <th>secteur</th>\n",
       "      <th>organisme_emetteur</th>\n",
       "      <th>pays</th>\n",
       "      <th>region</th>\n",
       "      <th>ville</th>\n",
       "      <th>date_publication</th>\n",
       "      <th>...</th>\n",
       "      <th>experiences_non_gagnants</th>\n",
       "      <th>historiques_non_gagnants</th>\n",
       "      <th>complexite_projet</th>\n",
       "      <th>exigences_techniques_detaillees</th>\n",
       "      <th>localisations_soumissionnaires</th>\n",
       "      <th>tailles_entreprises</th>\n",
       "      <th>contexte_economique</th>\n",
       "      <th>poids_criteres_attribution</th>\n",
       "      <th>historique_ao_similaires</th>\n",
       "      <th>details_annulations</th>\n",
       "    </tr>\n",
       "  </thead>\n",
       "  <tbody>\n",
       "    <tr>\n",
       "      <th>0</th>\n",
       "      <td>1</td>\n",
       "      <td>Appel d'offre pour maintenance à Rabat</td>\n",
       "      <td>Marché public concernant le secteur maintenanc...</td>\n",
       "      <td>Travaux</td>\n",
       "      <td>Maintenance</td>\n",
       "      <td>Ministère de l'Intérieur</td>\n",
       "      <td>Maroc</td>\n",
       "      <td>Dakhla-Oued Ed-Dahab</td>\n",
       "      <td>Rabat</td>\n",
       "      <td>2025-07-13</td>\n",
       "      <td>...</td>\n",
       "      <td>7; 3; 9; 24</td>\n",
       "      <td>9; 13; 9; 3</td>\n",
       "      <td>Élevée</td>\n",
       "      <td>Normes ISO 22000, Technologies modernes</td>\n",
       "      <td>Tanger; Tétouan; Mohammedia; Oujda; Nador</td>\n",
       "      <td>Moyenne entreprise; ETI; PME; PME; Grande entr...</td>\n",
       "      <td>Inflation: 1.2%, Croissance: 2.9%</td>\n",
       "      <td>Technique: 76%, Prix: 24%</td>\n",
       "      <td>Derniers 12 mois: 24 AO similaires</td>\n",
       "      <td>Taux d'annulation secteur: 5%</td>\n",
       "    </tr>\n",
       "    <tr>\n",
       "      <th>1</th>\n",
       "      <td>2</td>\n",
       "      <td>Appel d'offre pour agriculture à Beni Mellal</td>\n",
       "      <td>Marché public concernant le secteur agricultur...</td>\n",
       "      <td>Travaux</td>\n",
       "      <td>Agriculture</td>\n",
       "      <td>Office National des Aéroports</td>\n",
       "      <td>Maroc</td>\n",
       "      <td>Laâyoune-Sakia El Hamra</td>\n",
       "      <td>Beni Mellal</td>\n",
       "      <td>2025-07-13</td>\n",
       "      <td>...</td>\n",
       "      <td>18; 25; 5; 8</td>\n",
       "      <td>0; 3; 1; 4</td>\n",
       "      <td>Faible</td>\n",
       "      <td>Normes ISO 45001, Technologies modernes</td>\n",
       "      <td>Settat; Temara; Meknès; Kenitra; Nador</td>\n",
       "      <td>ETI; PME; ETI; Moyenne entreprise; Moyenne ent...</td>\n",
       "      <td>Inflation: 3.6%, Croissance: 4.4%</td>\n",
       "      <td>Technique: 72%, Prix: 28%</td>\n",
       "      <td>Derniers 12 mois: 22 AO similaires</td>\n",
       "      <td>Taux d'annulation secteur: 14%</td>\n",
       "    </tr>\n",
       "    <tr>\n",
       "      <th>2</th>\n",
       "      <td>3</td>\n",
       "      <td>Appel d'offre pour btp à Settat</td>\n",
       "      <td>Marché public concernant le secteur btp pour A...</td>\n",
       "      <td>Services</td>\n",
       "      <td>BTP</td>\n",
       "      <td>Agence de Développement Social</td>\n",
       "      <td>Maroc</td>\n",
       "      <td>Tanger-Tétouan-Al Hoceïma</td>\n",
       "      <td>Settat</td>\n",
       "      <td>2025-07-13</td>\n",
       "      <td>...</td>\n",
       "      <td>21; 11; 9</td>\n",
       "      <td>1; 0; 6</td>\n",
       "      <td>Élevée</td>\n",
       "      <td>Normes ISO 45001, Technologies éprouvées</td>\n",
       "      <td>El Jadida; Agadir; Mohammedia; Fès</td>\n",
       "      <td>ETI; ETI; Moyenne entreprise; Moyenne entreprise</td>\n",
       "      <td>Inflation: 3.7%, Croissance: 4.4%</td>\n",
       "      <td>Technique: 43%, Prix: 57%</td>\n",
       "      <td>Derniers 12 mois: 38 AO similaires</td>\n",
       "      <td>Taux d'annulation secteur: 16%</td>\n",
       "    </tr>\n",
       "    <tr>\n",
       "      <th>3</th>\n",
       "      <td>4</td>\n",
       "      <td>Appel d'offre pour informatique à Tétouan</td>\n",
       "      <td>Marché public concernant le secteur informatiq...</td>\n",
       "      <td>Services</td>\n",
       "      <td>Informatique</td>\n",
       "      <td>Agence Nationale de Réglementation des Télécom...</td>\n",
       "      <td>Maroc</td>\n",
       "      <td>Béni Mellal-Khénifra</td>\n",
       "      <td>Tétouan</td>\n",
       "      <td>2025-07-13</td>\n",
       "      <td>...</td>\n",
       "      <td>11; 6; 8; 17</td>\n",
       "      <td>8; 14; 14; 1</td>\n",
       "      <td>Moyenne</td>\n",
       "      <td>Normes ISO 14001, Technologies innovantes</td>\n",
       "      <td>Casablanca; Temara; Mohammedia; Fès; Berrechid</td>\n",
       "      <td>Grande entreprise; Moyenne entreprise; Grande ...</td>\n",
       "      <td>Inflation: 3.6%, Croissance: 3.0%</td>\n",
       "      <td>Technique: 61%, Prix: 39%</td>\n",
       "      <td>Derniers 12 mois: 20 AO similaires</td>\n",
       "      <td>Taux d'annulation secteur: 18%</td>\n",
       "    </tr>\n",
       "    <tr>\n",
       "      <th>4</th>\n",
       "      <td>5</td>\n",
       "      <td>Appel d'offre pour énergie à Meknès</td>\n",
       "      <td>Marché public concernant le secteur énergie po...</td>\n",
       "      <td>Services</td>\n",
       "      <td>Énergie</td>\n",
       "      <td>Agence Nationale de la Conservation Foncière</td>\n",
       "      <td>Maroc</td>\n",
       "      <td>Rabat-Salé-Kénitra</td>\n",
       "      <td>Meknès</td>\n",
       "      <td>2025-07-13</td>\n",
       "      <td>...</td>\n",
       "      <td>8; 6; 20; 24; 5; 14</td>\n",
       "      <td>1; 11; 3; 8; 11; 8</td>\n",
       "      <td>Faible</td>\n",
       "      <td>Normes ISO 27001, Technologies innovantes</td>\n",
       "      <td>Berrechid; Temara; Oujda; Kenitra; Nador; Marr...</td>\n",
       "      <td>Grande entreprise; PME; PME; Grande entreprise...</td>\n",
       "      <td>Inflation: 3.3%, Croissance: 4.0%</td>\n",
       "      <td>Technique: 43%, Prix: 57%</td>\n",
       "      <td>Derniers 12 mois: 37 AO similaires</td>\n",
       "      <td>Taux d'annulation secteur: 9%</td>\n",
       "    </tr>\n",
       "  </tbody>\n",
       "</table>\n",
       "<p>5 rows × 41 columns</p>\n",
       "</div>"
      ],
      "text/plain": [
       "   id_appel_offre                                         titre  \\\n",
       "0               1        Appel d'offre pour maintenance à Rabat   \n",
       "1               2  Appel d'offre pour agriculture à Beni Mellal   \n",
       "2               3               Appel d'offre pour btp à Settat   \n",
       "3               4     Appel d'offre pour informatique à Tétouan   \n",
       "4               5           Appel d'offre pour énergie à Meknès   \n",
       "\n",
       "                                         description categorie_marche  \\\n",
       "0  Marché public concernant le secteur maintenanc...          Travaux   \n",
       "1  Marché public concernant le secteur agricultur...          Travaux   \n",
       "2  Marché public concernant le secteur btp pour A...         Services   \n",
       "3  Marché public concernant le secteur informatiq...         Services   \n",
       "4  Marché public concernant le secteur énergie po...         Services   \n",
       "\n",
       "        secteur                                 organisme_emetteur   pays  \\\n",
       "0   Maintenance                           Ministère de l'Intérieur  Maroc   \n",
       "1   Agriculture                      Office National des Aéroports  Maroc   \n",
       "2           BTP                     Agence de Développement Social  Maroc   \n",
       "3  Informatique  Agence Nationale de Réglementation des Télécom...  Maroc   \n",
       "4       Énergie       Agence Nationale de la Conservation Foncière  Maroc   \n",
       "\n",
       "                      region        ville date_publication  ...  \\\n",
       "0       Dakhla-Oued Ed-Dahab        Rabat       2025-07-13  ...   \n",
       "1    Laâyoune-Sakia El Hamra  Beni Mellal       2025-07-13  ...   \n",
       "2  Tanger-Tétouan-Al Hoceïma       Settat       2025-07-13  ...   \n",
       "3       Béni Mellal-Khénifra      Tétouan       2025-07-13  ...   \n",
       "4         Rabat-Salé-Kénitra       Meknès       2025-07-13  ...   \n",
       "\n",
       "  experiences_non_gagnants historiques_non_gagnants complexite_projet  \\\n",
       "0              7; 3; 9; 24              9; 13; 9; 3            Élevée   \n",
       "1             18; 25; 5; 8               0; 3; 1; 4            Faible   \n",
       "2                21; 11; 9                  1; 0; 6            Élevée   \n",
       "3             11; 6; 8; 17             8; 14; 14; 1           Moyenne   \n",
       "4      8; 6; 20; 24; 5; 14       1; 11; 3; 8; 11; 8            Faible   \n",
       "\n",
       "             exigences_techniques_detaillees  \\\n",
       "0    Normes ISO 22000, Technologies modernes   \n",
       "1    Normes ISO 45001, Technologies modernes   \n",
       "2   Normes ISO 45001, Technologies éprouvées   \n",
       "3  Normes ISO 14001, Technologies innovantes   \n",
       "4  Normes ISO 27001, Technologies innovantes   \n",
       "\n",
       "                      localisations_soumissionnaires  \\\n",
       "0          Tanger; Tétouan; Mohammedia; Oujda; Nador   \n",
       "1             Settat; Temara; Meknès; Kenitra; Nador   \n",
       "2                 El Jadida; Agadir; Mohammedia; Fès   \n",
       "3     Casablanca; Temara; Mohammedia; Fès; Berrechid   \n",
       "4  Berrechid; Temara; Oujda; Kenitra; Nador; Marr...   \n",
       "\n",
       "                                 tailles_entreprises  \\\n",
       "0  Moyenne entreprise; ETI; PME; PME; Grande entr...   \n",
       "1  ETI; PME; ETI; Moyenne entreprise; Moyenne ent...   \n",
       "2   ETI; ETI; Moyenne entreprise; Moyenne entreprise   \n",
       "3  Grande entreprise; Moyenne entreprise; Grande ...   \n",
       "4  Grande entreprise; PME; PME; Grande entreprise...   \n",
       "\n",
       "                 contexte_economique poids_criteres_attribution  \\\n",
       "0  Inflation: 1.2%, Croissance: 2.9%  Technique: 76%, Prix: 24%   \n",
       "1  Inflation: 3.6%, Croissance: 4.4%  Technique: 72%, Prix: 28%   \n",
       "2  Inflation: 3.7%, Croissance: 4.4%  Technique: 43%, Prix: 57%   \n",
       "3  Inflation: 3.6%, Croissance: 3.0%  Technique: 61%, Prix: 39%   \n",
       "4  Inflation: 3.3%, Croissance: 4.0%  Technique: 43%, Prix: 57%   \n",
       "\n",
       "             historique_ao_similaires             details_annulations  \n",
       "0  Derniers 12 mois: 24 AO similaires   Taux d'annulation secteur: 5%  \n",
       "1  Derniers 12 mois: 22 AO similaires  Taux d'annulation secteur: 14%  \n",
       "2  Derniers 12 mois: 38 AO similaires  Taux d'annulation secteur: 16%  \n",
       "3  Derniers 12 mois: 20 AO similaires  Taux d'annulation secteur: 18%  \n",
       "4  Derniers 12 mois: 37 AO similaires   Taux d'annulation secteur: 9%  \n",
       "\n",
       "[5 rows x 41 columns]"
      ]
     },
     "execution_count": 4,
     "metadata": {},
     "output_type": "execute_result"
    }
   ],
   "source": [
    "df = pd.read_csv('appels_offres_zero_null.csv')\n",
    "df.head(5)"
   ]
  },
  {
   "cell_type": "markdown",
   "id": "f6ded72f-28a3-460f-9bfb-c03cab72049a",
   "metadata": {},
   "source": [
    "- **La description des colonnes de la table de données**"
   ]
  },
  {
   "cell_type": "markdown",
   "id": "b45a5bba-f6bc-45ef-85e3-831e09000410",
   "metadata": {},
   "source": [
    "- **id_appel_offre**  \n",
    "  🔹 Identifiant unique de chaque appel d’offre.  \n",
    "  🔹 Sert à référencer et différencier chaque enregistrement.  \n",
    "\n",
    "- **titre**  \n",
    "  🔹 Titre court décrivant l’objet de l’appel d’offre.  \n",
    "  🔹 Permet de cerner rapidement le thème ou le secteur du projet.  \n",
    "\n",
    "- **description**  \n",
    "  🔹 Description complète de l’appel d’offre, incluant les objectifs et contraintes du projet.  \n",
    "  🔹 Utile pour l’analyse sémantique ou l’extraction d’informations clés.  \n",
    "\n",
    "- **categorie_marche**  \n",
    "  🔹 Type de marché : Travaux, Fournitures, Services, etc.  \n",
    "  🔹 Permet de catégoriser les AO selon la nature du besoin.  \n",
    "\n",
    "- **secteur**  \n",
    "  🔹 Secteur d’activité ciblé par l’appel d’offre (Maintenance, Agriculture, etc.).  \n",
    "  🔹 Indique le domaine d’intervention économique ou technique.  \n",
    "\n",
    "- **organisme_emetteur**  \n",
    "  🔹 Administration ou entité publique ayant publié l’appel d’offre.  \n",
    "  🔹 Permet d’identifier l’origine institutionnelle du besoin.  \n",
    "\n",
    "- **pays**  \n",
    "  🔹 Pays émetteur de l’appel d’offre (toujours “Maroc” dans ce dataset).  \n",
    "  🔹 Peut être utile dans un contexte multi-pays.  \n",
    "\n",
    "- **region**  \n",
    "  🔹 Région administrative concernée par l’exécution du projet.  \n",
    "  🔹 Permet une analyse géographique plus large.  \n",
    "\n",
    "- **ville**  \n",
    "  🔹 Ville spécifique d’implantation ou de réalisation du projet.  \n",
    "  🔹 Complète l’information de localisation précise.  \n",
    "\n",
    "- **date_publication**  \n",
    "  🔹 Date officielle de parution de l’appel d’offre.  \n",
    "  🔹 Sert à analyser la saisonnalité ou les périodes actives.  \n",
    "\n",
    "- **experiences_non_gagnants**  \n",
    "  🔹 Liste des niveaux d’expérience des entreprises non retenues (ex : 3; 7; 9).  \n",
    "  🔹 Peut être utilisé pour analyser le profil des soumissionnaires écartés.  \n",
    "\n",
    "- **historiques_non_gagnants**  \n",
    "  🔹 Historique des participations des non-gagnants à des AO similaires.  \n",
    "  🔹 Permet de détecter des entreprises persistantes ou en échec récurrent.  \n",
    "\n",
    "- **complexite_projet**  \n",
    "  🔹 Degré de difficulté estimé du projet : Faible, Moyenne, Élevée.  \n",
    "  🔹 Permet d’ajuster l’analyse des exigences et des résultats.  \n",
    "\n",
    "- **exigences_techniques_detaillees**  \n",
    "  🔹 Normes ou standards techniques requis (ex : ISO, technologies spécifiques).  \n",
    "  🔹 Donne une idée du niveau technique attendu.  \n",
    "\n",
    "- **localisations_soumissionnaires**  \n",
    "  🔹 Liste des villes d’origine des entreprises soumissionnaires.  \n",
    "  🔹 Permet une cartographie de la concurrence géographique.  \n",
    "\n",
    "- **tailles_entreprises**  \n",
    "  🔹 Catégories de taille des soumissionnaires : PME, ETI, Grandes entreprises.  \n",
    "  🔹 Utile pour évaluer l’accessibilité des AO selon la taille des entreprises.  \n",
    "\n",
    "- **contexte_economique**  \n",
    "  🔹 Indicateurs économiques (Inflation, Croissance) au moment de l’AO.  \n",
    "  🔹 Permet de contextualiser les enjeux économiques.  \n",
    "\n",
    "- **poids_criteres_attribution**  \n",
    "  🔹 Répartition pondérée entre les critères d’attribution (ex : Technique 76%, Prix 24%).  \n",
    "  🔹 Crucial pour comprendre les logiques de sélection.  \n",
    "\n",
    "- **historique_ao_similaires**  \n",
    "  🔹 Nombre d’appels d’offres similaires publiés récemment (12 derniers mois).  \n",
    "  🔹 Indique la fréquence ou la récurrence d’un type de projet.  \n",
    "\n",
    "- **details_annulations**  \n",
    "  🔹 Taux ou causes d’annulation dans le secteur concerné.  \n",
    "  🔹 Utile pour estimer les risques ou l’instabilité dans certains domaines.  \n"
   ]
  },
  {
   "cell_type": "code",
   "execution_count": 10,
   "id": "725c403f-93e2-4e32-977f-6070afd410ae",
   "metadata": {},
   "outputs": [
    {
     "data": {
      "text/markdown": [
       "- la dimension de la Table est : **(10000, 41)**"
      ],
      "text/plain": [
       "<IPython.core.display.Markdown object>"
      ]
     },
     "metadata": {},
     "output_type": "display_data"
    }
   ],
   "source": [
    "display(Markdown(f'- la dimension de la Table est : **{df.shape}**'))"
   ]
  },
  {
   "cell_type": "code",
   "execution_count": 9,
   "id": "9dba5100-975f-4ff8-8a81-cf740f8881f2",
   "metadata": {},
   "outputs": [
    {
     "data": {
      "text/markdown": [
       "- le nombres des vehicule double est : **0**"
      ],
      "text/plain": [
       "<IPython.core.display.Markdown object>"
      ]
     },
     "metadata": {},
     "output_type": "display_data"
    }
   ],
   "source": [
    "display(Markdown(f'- le nombres des Apples offres repeter est  : **{df.duplicated().sum()}**'))"
   ]
  },
  {
   "cell_type": "code",
   "execution_count": 17,
   "id": "4e94b808-edf8-434d-847b-0f154d3cc1f0",
   "metadata": {},
   "outputs": [
    {
     "data": {
      "text/markdown": [
       "**- Le nombre des valeurs nulles dans chaque colonne est :**"
      ],
      "text/plain": [
       "<IPython.core.display.Markdown object>"
      ]
     },
     "metadata": {},
     "output_type": "display_data"
    },
    {
     "data": {
      "text/plain": [
       "id_appel_offre                               0\n",
       "titre                                        0\n",
       "description                                  0\n",
       "categorie_marche                             0\n",
       "secteur                                      0\n",
       "organisme_emetteur                           0\n",
       "pays                                         0\n",
       "region                                       0\n",
       "ville                                        0\n",
       "date_publication                             0\n",
       "date_limite                                  0\n",
       "date_resultat                                0\n",
       "budget_estime                                0\n",
       "soumissionnaires                             0\n",
       "montants_soumis                              0\n",
       "soumissionnaire_gagnant                      0\n",
       "montant_gagnant                              0\n",
       "montant_moyen                                0\n",
       "ecart_montant_vs_budget                      0\n",
       "delai_execution                              0\n",
       "type_procedure                               0\n",
       "critere_attribution                          0\n",
       "nombre_soumissionnaires                      0\n",
       "historique_gagnant_dans_les_3_derniers_ao    0\n",
       "nombre_ao_gagnes_par_gagnant                 0\n",
       "experience_gagnant                           0\n",
       "notation_technique_gagnant                   0\n",
       "statut_ao                                    0\n",
       "motif_annulation                             0\n",
       "notes_techniques_non_gagnants                0\n",
       "capacites_financieres                        0\n",
       "experiences_non_gagnants                     0\n",
       "historiques_non_gagnants                     0\n",
       "complexite_projet                            0\n",
       "exigences_techniques_detaillees              0\n",
       "localisations_soumissionnaires               0\n",
       "tailles_entreprises                          0\n",
       "contexte_economique                          0\n",
       "poids_criteres_attribution                   0\n",
       "historique_ao_similaires                     0\n",
       "details_annulations                          0\n",
       "dtype: int64"
      ]
     },
     "execution_count": 17,
     "metadata": {},
     "output_type": "execute_result"
    }
   ],
   "source": [
    "display(Markdown('**- Le nombre des valeurs nulles dans chaque colonne est :**'))\n",
    "df.isna().sum()"
   ]
  },
  {
   "cell_type": "code",
   "execution_count": 18,
   "id": "19ec9246-1725-4085-add2-b1b1a2807edf",
   "metadata": {},
   "outputs": [
    {
     "data": {
      "text/markdown": [
       "- Nombre de Marche distinctes dans la colonne  **categorie_marche est : 3**"
      ],
      "text/plain": [
       "<IPython.core.display.Markdown object>"
      ]
     },
     "metadata": {},
     "output_type": "display_data"
    }
   ],
   "source": [
    "display(Markdown(f'- Nombre de Marche distinctes dans la colonne  **categorie_marche est : {df[\"categorie_marche\"].nunique()}**'))"
   ]
  },
  {
   "cell_type": "code",
   "execution_count": 19,
   "id": "79cfa3e6-f63e-4f41-987f-56e7cf98c4ea",
   "metadata": {},
   "outputs": [
    {
     "data": {
      "text/plain": [
       "categorie_marche\n",
       "Travaux        3385\n",
       "Services       3309\n",
       "Fournitures    3306\n",
       "Name: count, dtype: int64"
      ]
     },
     "execution_count": 19,
     "metadata": {},
     "output_type": "execute_result"
    }
   ],
   "source": [
    "df['categorie_marche'].value_counts()"
   ]
  },
  {
   "cell_type": "code",
   "execution_count": 20,
   "id": "961732c3-7d70-4bf5-876c-7effe3f8decf",
   "metadata": {},
   "outputs": [
    {
     "data": {
      "text/markdown": [
       "- Nombre de secteur distinctes dans la colonne  **secteur est : 13**"
      ],
      "text/plain": [
       "<IPython.core.display.Markdown object>"
      ]
     },
     "metadata": {},
     "output_type": "display_data"
    }
   ],
   "source": [
    "display(Markdown(f'- Nombre de secteur distinctes dans la colonne  **secteur est : {df[\"secteur\"].nunique()}**'))"
   ]
  },
  {
   "cell_type": "code",
   "execution_count": 21,
   "id": "569fc6de-5316-42e4-a1dd-5e94fdb35c51",
   "metadata": {},
   "outputs": [
    {
     "data": {
      "text/plain": [
       "secteur\n",
       "Médical                  823\n",
       "Fournitures scolaires    815\n",
       "Environnement            775\n",
       "BTP                      772\n",
       "Transport                770\n",
       "Télécommunications       767\n",
       "Informatique             767\n",
       "Conseil                  764\n",
       "Sécurité                 758\n",
       "Formation                757\n",
       "Énergie                  756\n",
       "Agriculture              749\n",
       "Maintenance              727\n",
       "Name: count, dtype: int64"
      ]
     },
     "execution_count": 21,
     "metadata": {},
     "output_type": "execute_result"
    }
   ],
   "source": [
    "df['secteur'].value_counts()"
   ]
  },
  {
   "cell_type": "code",
   "execution_count": 22,
   "id": "6df2e2b6-091b-40be-bfb7-b9a04e7d026a",
   "metadata": {},
   "outputs": [
    {
     "data": {
      "text/markdown": [
       "- Nombre de organisme_emetteur distinctes dans la colonne  **organisme_emetteur est : 20**"
      ],
      "text/plain": [
       "<IPython.core.display.Markdown object>"
      ]
     },
     "metadata": {},
     "output_type": "display_data"
    }
   ],
   "source": [
    "display(Markdown(f'- Nombre de organisme_emetteur distinctes dans la colonne  **organisme_emetteur est : {df[\"organisme_emetteur\"].nunique()}**'))"
   ]
  },
  {
   "cell_type": "code",
   "execution_count": 23,
   "id": "b9554170-3a55-4ecc-997e-36cf39438a02",
   "metadata": {},
   "outputs": [
    {
     "data": {
      "text/plain": [
       "organisme_emetteur\n",
       "Ministère de l'Équipement                                    536\n",
       "Barid Al-Maghrib                                             531\n",
       "Ministère de l'Agriculture                                   519\n",
       "Agence Nationale de l'Assurance Maladie                      516\n",
       "Office National des Chemins de Fer                           516\n",
       "Agence Nationale de la Conservation Foncière                 515\n",
       "Office de la Formation Professionnelle                       514\n",
       "Agence Nationale de Réglementation des Télécommunications    513\n",
       "Office National des Aéroports                                506\n",
       "Ministère de l'Intérieur                                     499\n",
       "Ministère de l'Éducation                                     499\n",
       "Ministère de la Justice                                      495\n",
       "Agence de Développement Social                               493\n",
       "Office National de Sécurité Sanitaire                        491\n",
       "Caisse de Dépôt et de Gestion                                489\n",
       "Royal Air Maroc                                              489\n",
       "Ministère de la Santé                                        481\n",
       "Caisse Nationale de Sécurité Sociale                         475\n",
       "Office National des Hydrocarbures                            473\n",
       "Office National de l'Électricité et de l'Eau Potable         450\n",
       "Name: count, dtype: int64"
      ]
     },
     "execution_count": 23,
     "metadata": {},
     "output_type": "execute_result"
    }
   ],
   "source": [
    "df['organisme_emetteur'].value_counts()"
   ]
  },
  {
   "cell_type": "code",
   "execution_count": 24,
   "id": "8aefcd86-2077-4258-904f-2b4d6d52da56",
   "metadata": {},
   "outputs": [
    {
     "data": {
      "text/markdown": [
       "- Nombre de region distinctes dans la colonne  **region est : 12**"
      ],
      "text/plain": [
       "<IPython.core.display.Markdown object>"
      ]
     },
     "metadata": {},
     "output_type": "display_data"
    }
   ],
   "source": [
    "display(Markdown(f'- Nombre de region distinctes dans la colonne  **region est : {df[\"region\"].nunique()}**'))"
   ]
  },
  {
   "cell_type": "code",
   "execution_count": 25,
   "id": "cb84c1da-9a4e-43a0-9132-46d20fd803bf",
   "metadata": {},
   "outputs": [
    {
     "data": {
      "text/plain": [
       "region\n",
       "Guelmim-Oued Noun            872\n",
       "Béni Mellal-Khénifra         871\n",
       "Souss-Massa                  870\n",
       "Fès-Meknès                   859\n",
       "Rabat-Salé-Kénitra           839\n",
       "Laâyoune-Sakia El Hamra      833\n",
       "Dakhla-Oued Ed-Dahab         829\n",
       "Casablanca-Settat            823\n",
       "Marrakech-Safi               820\n",
       "Tanger-Tétouan-Al Hoceïma    819\n",
       "Drâa-Tafilalet               800\n",
       "Oriental                     765\n",
       "Name: count, dtype: int64"
      ]
     },
     "execution_count": 25,
     "metadata": {},
     "output_type": "execute_result"
    }
   ],
   "source": [
    "df['region'].value_counts()"
   ]
  },
  {
   "cell_type": "code",
   "execution_count": 26,
   "id": "8ecc8538-fe87-4d21-96c8-9709fa4376bd",
   "metadata": {},
   "outputs": [
    {
     "data": {
      "text/markdown": [
       "- Nombre des ville distinctes dans la colonne  **ville est : 20**"
      ],
      "text/plain": [
       "<IPython.core.display.Markdown object>"
      ]
     },
     "metadata": {},
     "output_type": "display_data"
    }
   ],
   "source": [
    "display(Markdown(f'- Nombre des ville distinctes dans la colonne  **ville est : {df[\"ville\"].nunique()}**'))"
   ]
  },
  {
   "cell_type": "code",
   "execution_count": 27,
   "id": "8780ded5-0c2b-40fa-b9d7-407957b7a839",
   "metadata": {},
   "outputs": [
    {
     "data": {
      "text/plain": [
       "ville\n",
       "Nador          547\n",
       "Salé           529\n",
       "Kenitra        526\n",
       "Safi           524\n",
       "Agadir         511\n",
       "El Jadida      507\n",
       "Marrakech      506\n",
       "Casablanca     504\n",
       "Tanger         503\n",
       "Tétouan        498\n",
       "Rabat          494\n",
       "Beni Mellal    491\n",
       "Settat         490\n",
       "Fès            488\n",
       "Temara         487\n",
       "Mohammedia     486\n",
       "Meknès         482\n",
       "Khouribga      482\n",
       "Oujda          473\n",
       "Berrechid      472\n",
       "Name: count, dtype: int64"
      ]
     },
     "execution_count": 27,
     "metadata": {},
     "output_type": "execute_result"
    }
   ],
   "source": [
    "df['ville'].value_counts()"
   ]
  },
  {
   "cell_type": "code",
   "execution_count": 28,
   "id": "627261f4-4538-4072-bbcd-4abffc2230db",
   "metadata": {},
   "outputs": [
    {
     "data": {
      "text/markdown": [
       "- Nombre des categorie de  complexite_projet distinctes dans la colonne  **complexite_projet est : 4**"
      ],
      "text/plain": [
       "<IPython.core.display.Markdown object>"
      ]
     },
     "metadata": {},
     "output_type": "display_data"
    }
   ],
   "source": [
    "display(Markdown(f'- Nombre des categorie de  complexite_projet distinctes dans la colonne  **complexite_projet est : {df[\"complexite_projet\"].nunique()}**'))"
   ]
  },
  {
   "cell_type": "code",
   "execution_count": 29,
   "id": "dabdbef1-e4f9-4657-948b-1f887651ef97",
   "metadata": {},
   "outputs": [
    {
     "data": {
      "text/plain": [
       "complexite_projet\n",
       "Moyenne        2577\n",
       "Faible         2497\n",
       "Très élevée    2470\n",
       "Élevée         2456\n",
       "Name: count, dtype: int64"
      ]
     },
     "execution_count": 29,
     "metadata": {},
     "output_type": "execute_result"
    }
   ],
   "source": [
    "df['complexite_projet'].value_counts()"
   ]
  },
  {
   "cell_type": "code",
   "execution_count": 30,
   "id": "67ade8df-02a7-42a3-9919-17f8a30bdf76",
   "metadata": {},
   "outputs": [
    {
     "data": {
      "text/markdown": [
       "- Nombre des exigences techniques distinctes dans la colonne  **exigences_techniques_detaillees est : 25**"
      ],
      "text/plain": [
       "<IPython.core.display.Markdown object>"
      ]
     },
     "metadata": {},
     "output_type": "display_data"
    }
   ],
   "source": [
    "display(Markdown(f'- Nombre des exigences techniques distinctes dans la colonne  **exigences_techniques_detaillees est : {df[\"exigences_techniques_detaillees\"].nunique()}**'))"
   ]
  },
  {
   "cell_type": "code",
   "execution_count": 31,
   "id": "bf8eeacc-1439-4541-aaa8-1d5f8114b7a4",
   "metadata": {},
   "outputs": [
    {
     "data": {
      "text/plain": [
       "exigences_techniques_detaillees\n",
       "Normes ISO 9001, Technologies avancées       442\n",
       "Normes ISO 14001, Technologies avancées      429\n",
       "Normes ISO 45001, Technologies certifiées    422\n",
       "Normes ISO 9001, Technologies certifiées     420\n",
       "Normes ISO 22000, Technologies avancées      419\n",
       "Normes ISO 22000, Technologies modernes      413\n",
       "Normes ISO 9001, Technologies innovantes     412\n",
       "Normes ISO 45001, Technologies modernes      410\n",
       "Normes ISO 27001, Technologies certifiées    408\n",
       "Normes ISO 14001, Technologies certifiées    405\n",
       "Normes ISO 14001, Technologies éprouvées     403\n",
       "Normes ISO 9001, Technologies éprouvées      403\n",
       "Normes ISO 27001, Technologies innovantes    401\n",
       "Normes ISO 14001, Technologies modernes      401\n",
       "Normes ISO 27001, Technologies modernes      401\n",
       "Normes ISO 9001, Technologies modernes       399\n",
       "Normes ISO 22000, Technologies certifiées    393\n",
       "Normes ISO 27001, Technologies avancées      393\n",
       "Normes ISO 45001, Technologies avancées      390\n",
       "Normes ISO 22000, Technologies innovantes    387\n",
       "Normes ISO 14001, Technologies innovantes    384\n",
       "Normes ISO 45001, Technologies éprouvées     374\n",
       "Normes ISO 22000, Technologies éprouvées     372\n",
       "Normes ISO 45001, Technologies innovantes    369\n",
       "Normes ISO 27001, Technologies éprouvées     350\n",
       "Name: count, dtype: int64"
      ]
     },
     "execution_count": 31,
     "metadata": {},
     "output_type": "execute_result"
    }
   ],
   "source": [
    "df['exigences_techniques_detaillees'].value_counts()"
   ]
  },
  {
   "cell_type": "code",
   "execution_count": 32,
   "id": "0d119e0e-c000-4f4f-8e08-3003205bf5f6",
   "metadata": {},
   "outputs": [
    {
     "data": {
      "text/markdown": [
       "- Nombre des localisations soumissionnaires distinctes dans la colonne  **localisations_soumissionnaires est : 9847**"
      ],
      "text/plain": [
       "<IPython.core.display.Markdown object>"
      ]
     },
     "metadata": {},
     "output_type": "display_data"
    }
   ],
   "source": [
    "display(Markdown(f'- Nombre des localisations soumissionnaires distinctes dans la colonne  **localisations_soumissionnaires est : {df[\"localisations_soumissionnaires\"].nunique()}**'))"
   ]
  },
  {
   "cell_type": "code",
   "execution_count": 33,
   "id": "405fd01b-968c-40ca-a466-c736e4c859b7",
   "metadata": {},
   "outputs": [
    {
     "data": {
      "text/plain": [
       "localisations_soumissionnaires\n",
       "Beni Mellal; Marrakech; Safi                                                      3\n",
       "Kenitra; Oujda; Berrechid                                                         3\n",
       "Kenitra; Khouribga; Settat                                                        3\n",
       "Khouribga; Meknès; El Jadida                                                      3\n",
       "Khouribga; Nador; Tétouan                                                         3\n",
       "                                                                                 ..\n",
       "Kenitra; Casablanca; Settat; Khouribga; Rabat; Marrakech; Marrakech; Marrakech    1\n",
       "Safi; Oujda; Salé; Khouribga; Beni Mellal; Berrechid; Tétouan; Mohammedia         1\n",
       "Safi; Rabat; Beni Mellal                                                          1\n",
       "Fès; Marrakech; Oujda; Tétouan; Tanger; Khouribga; Agadir; Beni Mellal            1\n",
       "Fès; El Jadida; Casablanca; Mohammedia; Agadir; Marrakech                         1\n",
       "Name: count, Length: 9847, dtype: int64"
      ]
     },
     "execution_count": 33,
     "metadata": {},
     "output_type": "execute_result"
    }
   ],
   "source": [
    "df['localisations_soumissionnaires'].value_counts()"
   ]
  },
  {
   "cell_type": "code",
   "execution_count": 34,
   "id": "8a8de40a-a4fc-43da-8b6b-b2b9670b14c2",
   "metadata": {},
   "outputs": [
    {
     "data": {
      "text/markdown": [
       "- Nombre des categorie de tailles entreprises distinctes dans la colonne  **tailles_entreprises est : 5717**"
      ],
      "text/plain": [
       "<IPython.core.display.Markdown object>"
      ]
     },
     "metadata": {},
     "output_type": "display_data"
    }
   ],
   "source": [
    "display(Markdown(f'- Nombre des categorie de tailles entreprises distinctes dans la colonne  **tailles_entreprises est : {df[\"tailles_entreprises\"].nunique()}**'))"
   ]
  },
  {
   "cell_type": "code",
   "execution_count": 35,
   "id": "340e184f-1376-447b-9915-c7323282e148",
   "metadata": {},
   "outputs": [
    {
     "data": {
      "text/plain": [
       "tailles_entreprises\n",
       "Grande entreprise; PME; ETI                                                                                      38\n",
       "PME; ETI; PME                                                                                                    36\n",
       "Moyenne entreprise; ETI; ETI                                                                                     35\n",
       "Grande entreprise; ETI; PME                                                                                      33\n",
       "Grande entreprise; PME; Grande entreprise                                                                        33\n",
       "                                                                                                                 ..\n",
       "Moyenne entreprise; Grande entreprise; Grande entreprise; ETI; ETI; PME; Grande entreprise; Grande entreprise     1\n",
       "Grande entreprise; Grande entreprise; PME; Grande entreprise; Moyenne entreprise; Grande entreprise; ETI          1\n",
       "ETI; ETI; PME; Grande entreprise; PME; Grande entreprise; Grande entreprise; ETI                                  1\n",
       "Moyenne entreprise; PME; Moyenne entreprise; PME; PME; Moyenne entreprise; ETI; PME                               1\n",
       "Grande entreprise; PME; ETI; Moyenne entreprise; ETI; PME                                                         1\n",
       "Name: count, Length: 5717, dtype: int64"
      ]
     },
     "execution_count": 35,
     "metadata": {},
     "output_type": "execute_result"
    }
   ],
   "source": [
    "df['tailles_entreprises'].value_counts()"
   ]
  },
  {
   "cell_type": "code",
   "execution_count": null,
   "id": "40120e36-73f5-46e1-b096-56e6e2fef415",
   "metadata": {},
   "outputs": [],
   "source": []
  },
  {
   "cell_type": "markdown",
   "id": "a36c425e-68e1-48ff-b6f8-0dbca0411c01",
   "metadata": {},
   "source": [
    "#### La présentation de quelques relations entre les variables (features)."
   ]
  },
  {
   "cell_type": "code",
   "execution_count": null,
   "id": "7cb0a505-3c34-455c-a4ee-17873359878f",
   "metadata": {},
   "outputs": [],
   "source": []
  }
 ],
 "metadata": {
  "kernelspec": {
   "display_name": "Python (mon_env)",
   "language": "python",
   "name": "mon_env"
  },
  "language_info": {
   "codemirror_mode": {
    "name": "ipython",
    "version": 3
   },
   "file_extension": ".py",
   "mimetype": "text/x-python",
   "name": "python",
   "nbconvert_exporter": "python",
   "pygments_lexer": "ipython3",
   "version": "3.11.9"
  }
 },
 "nbformat": 4,
 "nbformat_minor": 5
}
